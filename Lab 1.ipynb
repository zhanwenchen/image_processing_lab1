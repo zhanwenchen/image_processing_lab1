{
 "cells": [
  {
   "cell_type": "code",
   "execution_count": null,
   "metadata": {},
   "outputs": [],
   "source": [
    "# Import and initialize Matlab's Python API because lab1 is Matlab-specific.\n",
    "# NOTE: this takes a while (also I/O blocking)\n",
    "import matlab.engine\n",
    "eng = matlab.engine.start_matlab()"
   ]
  },
  {
   "cell_type": "code",
   "execution_count": 1,
   "metadata": {},
   "outputs": [],
   "source": [
    "# Load python dependencies\n",
    "import matplotlib.pyplot as plt\n",
    "import numpy as np"
   ]
  },
  {
   "cell_type": "code",
   "execution_count": 8,
   "metadata": {},
   "outputs": [],
   "source": [
    "# Redirect Matlab stdout and stderr to buffers\n",
    "\n",
    "import io\n",
    "out = io.StringIO()\n",
    "err = io.StringIO()\n",
    "\n",
    "def clean_buffers(out, err):\n",
    "    out.seek(0)\n",
    "    out.truncate(0)\n",
    "    \n",
    "    err.seek(0)\n",
    "    err.truncate(0)"
   ]
  },
  {
   "cell_type": "markdown",
   "metadata": {},
   "source": [
    "1. Image Classes\n",
    "\n",
    "(a) Load a truecolor image of your choice into a matrix I into Matlab\n",
    "% using imread."
   ]
  },
  {
   "cell_type": "markdown",
   "metadata": {},
   "source": []
  },
  {
   "cell_type": "code",
   "execution_count": 3,
   "metadata": {},
   "outputs": [],
   "source": [
    "clean_buffers(out, err)\n",
    "eng.eval(\"I = imread(\\'pamukkale.jpg\\');\", nargout=0, stdout=out, stderr=err)\n",
    "\n",
    "clean_buffers(out, err)\n",
    "eng.eval('figure; image(I); truesize;', nargout=0, stdout=out, stderr=err)"
   ]
  },
  {
   "cell_type": "markdown",
   "metadata": {},
   "source": [
    "5(a)(i) Write a function that outputs an image J made from input image I such that J(r,c,b) is the average of I(r,c,b) and the 8 pixels that surround it. Use three nested loops, over the bands, the rows, and the columns.\n",
    "\n",
    "\n",
    "In the function, record the size of I in the three scalars R, C, and B.  Convert I to double. Allocate J as a zero image the same size as I. Loop over all B bands. So as not to go outside of I when constructing J, loop the rows from 2 to R-1 and the columns from 2 to C-1. That means the resulting J will have a 1-pixel wide band of zeros around it. Convert J to uint8.\n",
    "\n",
    "\n",
    "Surround outside loop with tic and toc so that when you run the function it tells you the amount of time it took to execute the loops.\n",
    "\n",
    "Load a truecolor image of your choice into Matlab . Run your function on it, note the time and display the image. Include your code, the size of the image, and the execution time in your report. You need not include the input image nor the output image."
   ]
  },
  {
   "cell_type": "markdown",
   "metadata": {},
   "source": [
    "Repeat the two methods serveral times to get a typical execution time. Were the results what you expected? Explain why the results might be so\n",
    "\n",
    "#### Answer: On average, the loop implementation took 0.021786 seconds, while the vectoized one took 0.083131 seconds. These results surprised me, because "
   ]
  },
  {
   "cell_type": "code",
   "execution_count": 9,
   "metadata": {},
   "outputs": [
    {
     "name": "stdout",
     "output_type": "stream",
     "text": [
      "5(a)(i) loop Elapsed time is 0.021340 seconds.\n",
      "\n",
      "5(a)(ii) vectorized Elapsed time is 0.092488 seconds.\n",
      "\n"
     ]
    }
   ],
   "source": [
    "# Documentation for calling user scripts in Matlab Python API\n",
    "# https://www.mathworks.com/help/matlab/matlab_external/call-user-script-and-function-from-python.html\n",
    "\n",
    "# clean buffer\n",
    "clean_buffers(out, err)\n",
    "eng.eval(\"loop = getAverageImage_loop(I);\", nargout=0, stdout=out, stderr=err)\n",
    "print(\"5(a)(i) loop\", out.getvalue())\n",
    "\n",
    "# clean buffer\n",
    "clean_buffers(out, err)\n",
    "eng.eval(\"vec = getAverageImage_vec(I);\", nargout=0, stdout=out, stderr=err)\n",
    "print(\"5(a)(ii) vectorized\", out.getvalue())"
   ]
  },
  {
   "cell_type": "markdown",
   "metadata": {},
   "source": [
    "5(b) Write two functions that accept an M x N matrix and output as L2 distance matrix. Assume that the input matrix contains N M-vectos (each column is a vector). The distance matrix will be N x N. Element (i, j) contains the L2 (a.k.a. Euclidean) distance between the ith and jth vectors in the input matrix.\n",
    "\n",
    "The first program should be written using loops. Note that there are symmetries in the resultant matrix that can be exploited to reduce execution time.\n",
    "\n",
    "The second program should use no loops. That can be accomplished using bsxfun, but there may be other ways. Consider computing the distance matrix using the expansion of the L2 distance into an expression in terms of L2 inner products. I.e., ||xi  x|j|| = '??'\n",
    "\n",
    "Compare the execution times of the two on a random 10 x 1000 matrix using tic and toc. Compare thos results to that of the Matlab built-in pdist() from the statistics toolbox. Repeat all three several times to get a typical time. Were the results what you expected? Explain why the results might be so."
   ]
  },
  {
   "cell_type": "markdown",
   "metadata": {},
   "source": [
    "#### rando = randi([0, 255], 10, 1000);\n",
    "\n",
    "#### D_loop = getL2Dist_loop(rando);\n",
    "\n",
    "#### D_vec = getL2Dist_vec(rando);\n",
    "\n",
    "#### D_pdist = squareform(pdist(rando'));\n",
    "\n",
    "\n",
    "#### loop 0.063182 seconds\n",
    "#### vec 0.005860 seconds\n",
    "#### pdist 0.013539 seconds"
   ]
  },
  {
   "cell_type": "code",
   "execution_count": null,
   "metadata": {},
   "outputs": [],
   "source": []
  }
 ],
 "metadata": {
  "kernelspec": {
   "display_name": "Python 3",
   "language": "python",
   "name": "python3"
  },
  "language_info": {
   "codemirror_mode": {
    "name": "ipython",
    "version": 3
   },
   "file_extension": ".py",
   "mimetype": "text/x-python",
   "name": "python",
   "nbconvert_exporter": "python",
   "pygments_lexer": "ipython3",
   "version": "3.6.6"
  }
 },
 "nbformat": 4,
 "nbformat_minor": 2
}
